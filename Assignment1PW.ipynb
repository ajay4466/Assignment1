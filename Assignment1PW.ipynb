{
 "cells": [
  {
   "cell_type": "code",
   "execution_count": 10,
   "id": "1f00a59e",
   "metadata": {},
   "outputs": [],
   "source": [
    "s = \"This is string\"\n",
    "l = [1,2,3,4,'text',3.142,False,9+4j]\n",
    "f = 3.142\n",
    "t = ('text1','text2','text3')"
   ]
  },
  {
   "cell_type": "code",
   "execution_count": 11,
   "id": "7f5424b5",
   "metadata": {},
   "outputs": [
    {
     "name": "stdout",
     "output_type": "stream",
     "text": [
      "This is string [1, 2, 3, 4, 'text', 3.142, False, (9+4j)] ('text1', 'text2', 'text3') 3.142\n"
     ]
    }
   ],
   "source": [
    "print(s,l,t,f)"
   ]
  },
  {
   "cell_type": "code",
   "execution_count": 15,
   "id": "88bc7473",
   "metadata": {},
   "outputs": [
    {
     "data": {
      "text/plain": [
       "str"
      ]
     },
     "execution_count": 15,
     "metadata": {},
     "output_type": "execute_result"
    }
   ],
   "source": [
    "var = ''\n",
    "type(var)\n",
    " "
   ]
  },
  {
   "cell_type": "code",
   "execution_count": 17,
   "id": "cb57066a",
   "metadata": {},
   "outputs": [],
   "source": [
    " var2 = '[DS,ML,Python]'\n",
    " var3 = ['DS','ML','Python']\n",
    " var4 = 1"
   ]
  },
  {
   "cell_type": "code",
   "execution_count": 18,
   "id": "eb812d4d",
   "metadata": {},
   "outputs": [
    {
     "data": {
      "text/plain": [
       "str"
      ]
     },
     "execution_count": 18,
     "metadata": {},
     "output_type": "execute_result"
    }
   ],
   "source": [
    "type(var2)"
   ]
  },
  {
   "cell_type": "code",
   "execution_count": 19,
   "id": "0483a5b6",
   "metadata": {},
   "outputs": [
    {
     "data": {
      "text/plain": [
       "list"
      ]
     },
     "execution_count": 19,
     "metadata": {},
     "output_type": "execute_result"
    }
   ],
   "source": [
    "type(var3)"
   ]
  },
  {
   "cell_type": "code",
   "execution_count": 20,
   "id": "04898275",
   "metadata": {},
   "outputs": [
    {
     "data": {
      "text/plain": [
       "int"
      ]
     },
     "execution_count": 20,
     "metadata": {},
     "output_type": "execute_result"
    }
   ],
   "source": [
    "type(var4)"
   ]
  },
  {
   "cell_type": "code",
   "execution_count": 24,
   "id": "6addc7cf",
   "metadata": {},
   "outputs": [
    {
     "name": "stdout",
     "output_type": "stream",
     "text": [
      "3.3333333333333335\n",
      "1\n",
      "3\n",
      "1000\n"
     ]
    }
   ],
   "source": [
    "a = 10\n",
    "b = 3\n",
    "print(a/b)\n",
    "print(a%b)\n",
    "print(a//b)\n",
    "print(a**b)"
   ]
  },
  {
   "cell_type": "code",
   "execution_count": 28,
   "id": "cfd9aa0c",
   "metadata": {},
   "outputs": [
    {
     "name": "stdout",
     "output_type": "stream",
     "text": [
      "1\n",
      "<class 'int'>\n",
      "2\n",
      "<class 'int'>\n",
      "3\n",
      "<class 'int'>\n",
      "4\n",
      "<class 'int'>\n",
      "5\n",
      "<class 'int'>\n",
      "text\n",
      "<class 'str'>\n",
      "3.142\n",
      "<class 'float'>\n",
      "99\n",
      "<class 'int'>\n",
      "True\n",
      "<class 'bool'>\n",
      "(3+4j)\n",
      "<class 'complex'>\n"
     ]
    }
   ],
   "source": [
    "f=[1,2,3,4,5,'text',3.142,99,True,3+4j]\n",
    "for i in f:\n",
    "    print(i)\n",
    "    print(type(i))"
   ]
  },
  {
   "cell_type": "code",
   "execution_count": 5,
   "id": "75f8b395",
   "metadata": {},
   "outputs": [
    {
     "name": "stdout",
     "output_type": "stream",
     "text": [
      "10\n",
      "2\n",
      "No of times its divisible is 5.0\n"
     ]
    }
   ],
   "source": [
    "a=int(input())\n",
    "b=int(input())\n",
    "d = a/b\n",
    "x=0\n",
    "while x==0:\n",
    "  x=+1\n",
    "  if a%b==0:\n",
    "    print(\"No of times its divisible is\", d)\n",
    "  else:\n",
    "    print(\"Not Divisible\") "
   ]
  },
  {
   "cell_type": "code",
   "execution_count": 3,
   "id": "b6e2246d",
   "metadata": {},
   "outputs": [],
   "source": [
    "l = [1,2,3,4,5,6,7,8,9,10,11,12,13,14,15,16,17,18,19,20,21,22,23,24,25]"
   ]
  },
  {
   "cell_type": "code",
   "execution_count": 4,
   "id": "f55c9442",
   "metadata": {},
   "outputs": [
    {
     "name": "stdout",
     "output_type": "stream",
     "text": [
      "Not divisible by 3\n",
      "Not divisible by 3\n",
      "Divisible by 3\n",
      "Not divisible by 3\n",
      "Not divisible by 3\n",
      "Divisible by 3\n",
      "Not divisible by 3\n",
      "Not divisible by 3\n",
      "Divisible by 3\n",
      "Not divisible by 3\n",
      "Not divisible by 3\n",
      "Divisible by 3\n",
      "Not divisible by 3\n",
      "Not divisible by 3\n",
      "Divisible by 3\n",
      "Not divisible by 3\n",
      "Not divisible by 3\n",
      "Divisible by 3\n",
      "Not divisible by 3\n",
      "Not divisible by 3\n",
      "Divisible by 3\n",
      "Not divisible by 3\n",
      "Not divisible by 3\n",
      "Divisible by 3\n",
      "Not divisible by 3\n"
     ]
    }
   ],
   "source": [
    "for i in l:\n",
    "  if i%3==0:\n",
    "    print('Divisible by 3')\n",
    "  else:\n",
    "    print('Not divisible by 3')"
   ]
  },
  {
   "cell_type": "code",
   "execution_count": 6,
   "id": "d516e01b",
   "metadata": {},
   "outputs": [],
   "source": [
    "l= ['12',15,'ajay',3.142]"
   ]
  },
  {
   "cell_type": "code",
   "execution_count": 7,
   "id": "a7e34977",
   "metadata": {},
   "outputs": [],
   "source": [
    "l.append('99')"
   ]
  },
  {
   "cell_type": "code",
   "execution_count": 8,
   "id": "a1609882",
   "metadata": {},
   "outputs": [
    {
     "data": {
      "text/plain": [
       "['12', 15, 'ajay', 3.142, '99']"
      ]
     },
     "execution_count": 8,
     "metadata": {},
     "output_type": "execute_result"
    }
   ],
   "source": [
    "l"
   ]
  },
  {
   "cell_type": "code",
   "execution_count": 9,
   "id": "6f51de5d",
   "metadata": {},
   "outputs": [],
   "source": [
    "t = ('12',15,'ajay',3.142)"
   ]
  },
  {
   "cell_type": "code",
   "execution_count": 10,
   "id": "48c7d5a5",
   "metadata": {},
   "outputs": [
    {
     "ename": "AttributeError",
     "evalue": "'tuple' object has no attribute 'append'",
     "output_type": "error",
     "traceback": [
      "\u001b[1;31m---------------------------------------------------------------------------\u001b[0m",
      "\u001b[1;31mAttributeError\u001b[0m                            Traceback (most recent call last)",
      "Cell \u001b[1;32mIn[10], line 1\u001b[0m\n\u001b[1;32m----> 1\u001b[0m \u001b[43mt\u001b[49m\u001b[38;5;241;43m.\u001b[39;49m\u001b[43mappend\u001b[49m(\u001b[38;5;124m'\u001b[39m\u001b[38;5;124m99\u001b[39m\u001b[38;5;124m'\u001b[39m)\n",
      "\u001b[1;31mAttributeError\u001b[0m: 'tuple' object has no attribute 'append'"
     ]
    }
   ],
   "source": [
    "t.append('99')"
   ]
  },
  {
   "cell_type": "code",
   "execution_count": null,
   "id": "f1676688",
   "metadata": {},
   "outputs": [],
   "source": []
  }
 ],
 "metadata": {
  "kernelspec": {
   "display_name": "Python 3 (ipykernel)",
   "language": "python",
   "name": "python3"
  },
  "language_info": {
   "codemirror_mode": {
    "name": "ipython",
    "version": 3
   },
   "file_extension": ".py",
   "mimetype": "text/x-python",
   "name": "python",
   "nbconvert_exporter": "python",
   "pygments_lexer": "ipython3",
   "version": "3.10.9"
  }
 },
 "nbformat": 4,
 "nbformat_minor": 5
}
